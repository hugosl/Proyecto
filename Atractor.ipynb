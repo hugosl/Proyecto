{
 "cells": [
  {
   "cell_type": "code",
   "execution_count": 24,
   "metadata": {
    "collapsed": true
   },
   "outputs": [],
   "source": [
    "import numpy as np\n",
    "from scipy import integrate\n",
    "from matplotlib import pyplot as plt\n",
    "from mpl_toolkits.mplot3d import Axes3D\n",
    "from matplotlib.colors import cnames\n",
    "from matplotlib import animation"
   ]
  },
  {
   "cell_type": "markdown",
   "metadata": {},
   "source": [
    "El circuito de Chua es un modelo no lineal y a determinados valores genera caos y produce un sinnúmero de comportamientos, incluso toda una familia de atractores extraños y consiste en un oscilador (un condensador y bobina en paralelo), una resistencia en serie con el oscilador y un condensador en paralelo con un dispositivo  no lineal alimentado por alguna fuente externa de potencia comúnmente llamado diodo de Chua.Este diodo esta caracterizado por una respuesta de corriente contra voltaje no lineal, cuya pendiente debe ser negativa en algún lugar de la curva que,un elemento de este tipo es también llamado resistor activo localmente, aunque dicha curva de corriente contra voltaje puede tener muchas formas, el circuito de Chua original, especifica una curva impar, lineal por partes.\n",
    "\n",
    "El circuito de Chua en su conjunto nos da una curva de transferencia la cuál la podemos obtener por medio de otros circuitos electrónicos. Es por eso que el circuito de Chua tiene una gran importancia ya que es el ejemplo de un sistema caótico que emula  un sistema real físico y comprobado en el laboratorio."
   ]
  },
  {
   "cell_type": "markdown",
   "metadata": {},
   "source": [
    "Un aspecto importante es que el circuito de Chua es un sistema que presenta diferentes dinámicas, caóticas oscilatorias y puede ser representado por un sistema de ecuaciones diferenciales las cuales son:\n",
    "\n",
    "$$\\frac{dx}{dt}=\\alpha(y-x-f(x))$$\n",
    "\n",
    "$$\\frac{dy}{dt}= x-y+z$$\n",
    "\n",
    "$$\\frac{dz}{dt}= -\\beta y - \\gamma z$$\n",
    "\n",
    "$$f(x) = bx + 0.5 (a-b)((\\sqrt{x+1})^2-(\\sqrt{x-1})^2)$$"
   ]
  },
  {
   "cell_type": "markdown",
   "metadata": {},
   "source": [
    "Podemos simplificar las ecuaciones usando la curva de transferencia del sistema y aproximarla a una ecuación polinomial de tercer grado. De esta forma podemos llegar a las siguiente ecuaciones:\n",
    "\n",
    "$$\\frac{dx}{dt}=\\alpha(y-f(x))$$\n",
    "\n",
    "$$\\frac{dy}{dt}= x-y+z$$\n",
    "\n",
    "$$\\frac{dz}{dt}= -\\beta y $$\n",
    "\n",
    "$$f(x) = \\frac{1}{16}x^3-\\frac{1}{6}x$$\n",
    "\n",
    "El parametró gamma ya no existe, este sistema tiene la facilidad de permitir que se hallen sus puntos de equilibrio facilmente.\n",
    "\n",
    "Los puntos de equilibrio del sistema son 3 incluyendo el trivial, estos se muestran en el siguiente arreglo."
   ]
  },
  {
   "cell_type": "markdown",
   "metadata": {},
   "source": [
    "$$\\Biggl(\\begin{smallmatrix}\n",
    "x&y&z\\\\ 0&0&0\\\\-2.633&0&2.633\\\\2.633&0&-2.633\n",
    "\\end{smallmatrix} \\Biggr)$$\n",
    "\n",
    "Y podemos encontrar su matriz jacobiana la cual está dada por:\n",
    "\n",
    "$$\\Biggl(\\begin{smallmatrix}\n",
    "\\alpha(\\frac{3}{16}x^2-\\frac{1}{6})&\\alpha&0\\\\ 1&-1&1\\\\0&-\\beta&0\n",
    "\\end{smallmatrix} \\Biggr)$$\n",
    "\n",
    "De la matriz jacobiana se pueden hallar los autovalores en cada punto de equilibrio, para valores de alpha=9.5 y betha=14.\n",
    "\n",
    "Para el punto de equilibrio trivial sus autovalores son:"
   ]
  },
  {
   "cell_type": "markdown",
   "metadata": {},
   "source": [
    "$$\\Biggl(\\begin{smallmatrix}\n",
    "-1.03+2.70i&0&0\\\\ 0&2.64&0\\\\0&0&-1.03+2.70i\n",
    "\\end{smallmatrix} \\Biggr)$$\n",
    "\n",
    "En estos se puede observar dos autovalores complejos conjugados con parte real negativa, que denotan que el punto es oscilatoriamente estable, y un tercer autovalor real positivo que denota la existencia de una variedad inestable de gran peso cerca al punto de equilibrio.\n",
    "\n",
    "Para segundo punto de equilibrio con x negativa y z positiva, a partir de sus valores propios todos con parte real negativa se puede decir que es un punto de equilibrio completamente estable.\n",
    "\n",
    "$$\\Biggl(\\begin{smallmatrix}\n",
    "-11.57&0&0\\\\ 0&-0.09-3.60i&0\\\\0&0&-0.09+3.60i\n",
    "\\end{smallmatrix} \\Biggr)$$\n",
    "\n",
    "El tercer punto de equilibrio tiene iguales características que\n",
    "el segundo al tener igual juego de autovalores.\n",
    "\n",
    "El sistema con los parametros tomando los valores discutidos en esta ultimá parte se comporta de la siguiente manera:"
   ]
  },
  {
   "cell_type": "code",
   "execution_count": 25,
   "metadata": {
    "collapsed": false
   },
   "outputs": [],
   "source": [
    "def chua_deriv((x, y, z), t0, alpha=9.5 , beta=14.): # definine el sistema de chua\n",
    "    #se utilizo una generalización que sustituye la función continua lineal a tramos f( x )\n",
    "    #por una función suave, tal como un  polinomio cubico, en este caso fue estudiado por Hirsch y Smale\n",
    "    f = ((1./16.)*x**3 - (1./6.)*x)\n",
    "    return [alpha * (y  - f),  x - y + z, -(beta * y)]"
   ]
  },
  {
   "cell_type": "code",
   "execution_count": 32,
   "metadata": {
    "collapsed": false
   },
   "outputs": [],
   "source": [
    "N_trajectories = 20\n",
    "\n",
    "# Elije puntos de inicio al azar, distribuidos uniformemente en torno al punto de equilibrio trivial (0,0,0)\n",
    "np.random.seed(1)\n",
    "x0 =  .0001 * np.random.random((N_trajectories, 3))\n",
    "\n",
    "# Resuelve para las trayectorias\n",
    "t = np.linspace(0, 100, 10000)\n",
    "x_t = np.asarray([integrate.odeint(chua_deriv, x0i, t)\n",
    "                  for x0i in x0])"
   ]
  },
  {
   "cell_type": "code",
   "execution_count": 33,
   "metadata": {
    "collapsed": true
   },
   "outputs": [],
   "source": [
    "# Establece la figura y eje 3D para la animación \n",
    "fig = plt.figure()\n",
    "ax = fig.add_axes([0, 0, 1, 1], projection='3d')\n",
    "ax.axis('on')\n",
    "\n",
    "# Elege un color diferente para cada trayectoria \n",
    "colors = plt.cm.jet(np.linspace(0, 1, N_trajectories))\n",
    "\n",
    "# Establece líneas y puntos \n",
    "lines = sum([ax.plot([], [], [], '-', c=c)\n",
    "             for c in colors], [])\n",
    "pts = sum([ax.plot([], [], [], 'o', c=c)\n",
    "           for c in colors], [])\n",
    "\n",
    "# Prepara el límite de los ejes \n",
    "zoom = 3\n",
    "ax.set_xlim((-zoom, zoom))\n",
    "ax.set_ylim((-zoom, zoom))\n",
    "ax.set_zlim((-zoom, zoom))\n",
    "\n",
    "# Conjunto de puntos de vista: especificado por (grados de altitud, grados  azimutales) \n",
    "ax.view_init(30, 0)\n",
    "\n",
    "# Función de inicialización: trama del fondo de cada trama\n",
    "def init():\n",
    "    for line, pt in zip(lines, pts):\n",
    "        line.set_data([], [])\n",
    "        line.set_3d_properties([])\n",
    "\n",
    "        pt.set_data([], [])\n",
    "        pt.set_3d_properties([])\n",
    "    return lines + pts\n",
    "\n",
    "# Función de animación. Esto se llama secuencialmente con el número de cuadro \n",
    "def animate(i):\n",
    "    # un paso por 6 pasos de tiempo por trama. Esto conduce a buenos resultados.\n",
    "    i = (6 * i) % x_t.shape[1]\n",
    "\n",
    "    for line, pt, xi in zip(lines, pts, x_t):\n",
    "        x, y, z = xi[:i].T\n",
    "        line.set_data(x, y)\n",
    "        line.set_3d_properties(z)\n",
    "\n",
    "        pt.set_data(x[-1:], y[-1:])\n",
    "        pt.set_3d_properties(z[-1:])\n",
    "\n",
    "    ax.view_init(30, 0.3 * i) # angulo de vista y velocidad de rotacion\n",
    "    fig.canvas.draw()\n",
    "    return lines + pts\n",
    "\n",
    "# inicializa el animador\n",
    "anim = animation.FuncAnimation(fig, animate, init_func=init,\n",
    "                               frames=5000, interval=30, blit=True)\n",
    "\n",
    "# Guardar como MP4. Esto requiere mplayer o ffmpeg instalado. \n",
    "# anim.save ( 'lorentz_attractor.mp4', fps = 15, extra_args = ['- vcodec', 'libx264'])\n",
    "\n",
    "plt.show()"
   ]
  },
  {
   "cell_type": "code",
   "execution_count": 34,
   "metadata": {
    "collapsed": false
   },
   "outputs": [],
   "source": [
    "# Elije puntos de inicio al azar, distribuidos uniformemente en torno al punto de equilibrio (-2.633,0,2.633)\n",
    "np.random.seed(1)\n",
    "x0 =  (-2.633,0,2.633)+ .0001*np.random.random((N_trajectories,3))\n",
    "\n",
    "# Resuelve para las trayectorias\n",
    "t = np.linspace(0, 100, 10000)\n",
    "x_t = np.asarray([integrate.odeint(chua_deriv, x0i, t)\n",
    "                  for x0i in x0])"
   ]
  },
  {
   "cell_type": "code",
   "execution_count": 35,
   "metadata": {
    "collapsed": true
   },
   "outputs": [],
   "source": [
    "# Establece la figura y eje 3D para la animación \n",
    "fig = plt.figure()\n",
    "ax = fig.add_axes([0, 0, 1, 1], projection='3d')\n",
    "ax.axis('on')\n",
    "\n",
    "# Elege un color diferente para cada trayectoria \n",
    "colors = plt.cm.jet(np.linspace(0, 1, N_trajectories))\n",
    "\n",
    "# Establece líneas y puntos \n",
    "lines = sum([ax.plot([], [], [], '-', c=c)\n",
    "             for c in colors], [])\n",
    "pts = sum([ax.plot([], [], [], 'o', c=c)\n",
    "           for c in colors], [])\n",
    "\n",
    "# Prepara el límite de los ejes \n",
    "zoom = 3\n",
    "ax.set_xlim((-zoom, zoom))\n",
    "ax.set_ylim((-zoom, zoom))\n",
    "ax.set_zlim((-zoom, zoom))\n",
    "\n",
    "# Conjunto de puntos de vista: especificado por (grados de altitud, grados  azimutales) \n",
    "ax.view_init(30, 0)\n",
    "\n",
    "# Función de inicialización: trama del fondo de cada trama\n",
    "def init():\n",
    "    for line, pt in zip(lines, pts):\n",
    "        line.set_data([], [])\n",
    "        line.set_3d_properties([])\n",
    "\n",
    "        pt.set_data([], [])\n",
    "        pt.set_3d_properties([])\n",
    "    return lines + pts\n",
    "\n",
    "# Función de animación. Esto se llama secuencialmente con el número de cuadro \n",
    "def animate(i):\n",
    "    # un paso por 6 pasos de tiempo por trama. Esto conduce a buenos resultados.\n",
    "    i = (6 * i) % x_t.shape[1]\n",
    "\n",
    "    for line, pt, xi in zip(lines, pts, x_t):\n",
    "        x, y, z = xi[:i].T\n",
    "        line.set_data(x, y)\n",
    "        line.set_3d_properties(z)\n",
    "\n",
    "        pt.set_data(x[-1:], y[-1:])\n",
    "        pt.set_3d_properties(z[-1:])\n",
    "\n",
    "    ax.view_init(30, 0.3 * i) # angulo de vista y velocidad de rotacion\n",
    "    fig.canvas.draw()\n",
    "    return lines + pts\n",
    "\n",
    "# inicializa el animador\n",
    "anim = animation.FuncAnimation(fig, animate, init_func=init,\n",
    "                               frames=5000, interval=30, blit=True)\n",
    "\n",
    "# Guardar como MP4. Esto requiere mplayer o ffmpeg instalado. \n",
    "# anim.save ( 'lorentz_attractor.mp4', fps = 15, extra_args = ['- vcodec', 'libx264'])\n",
    "\n",
    "plt.show()"
   ]
  },
  {
   "cell_type": "code",
   "execution_count": 36,
   "metadata": {
    "collapsed": false
   },
   "outputs": [],
   "source": [
    "# Elije puntos de inicio al azar, distribuidos uniformemente en torno al punto de equilibrio  (2.633,0,-2.633)\n",
    "np.random.seed(1)\n",
    "x0 =  (2.633,0,-2.633)+ .001*np.random.random((N_trajectories,3))\n",
    "\n",
    "# Resuelve para las trayectorias\n",
    "t = np.linspace(0, 100, 10000)\n",
    "x_t = np.asarray([integrate.odeint(chua_deriv, x0i, t)\n",
    "                  for x0i in x0])"
   ]
  },
  {
   "cell_type": "code",
   "execution_count": 37,
   "metadata": {
    "collapsed": true
   },
   "outputs": [],
   "source": [
    "# Establece la figura y eje 3D para la animación \n",
    "fig = plt.figure()\n",
    "ax = fig.add_axes([0, 0, 1, 1], projection='3d')\n",
    "ax.axis('on')\n",
    "\n",
    "# Elege un color diferente para cada trayectoria \n",
    "colors = plt.cm.jet(np.linspace(0, 1, N_trajectories))\n",
    "\n",
    "# Establece líneas y puntos \n",
    "lines = sum([ax.plot([], [], [], '-', c=c)\n",
    "             for c in colors], [])\n",
    "pts = sum([ax.plot([], [], [], 'o', c=c)\n",
    "           for c in colors], [])\n",
    "\n",
    "# Prepara el límite de los ejes \n",
    "zoom = 3\n",
    "ax.set_xlim((-zoom, zoom))\n",
    "ax.set_ylim((-zoom, zoom))\n",
    "ax.set_zlim((-zoom, zoom))\n",
    "\n",
    "# Conjunto de puntos de vista: especificado por (grados de altitud, grados  azimutales) \n",
    "ax.view_init(30, 0)\n",
    "\n",
    "# Función de inicialización: trama del fondo de cada trama\n",
    "def init():\n",
    "    for line, pt in zip(lines, pts):\n",
    "        line.set_data([], [])\n",
    "        line.set_3d_properties([])\n",
    "\n",
    "        pt.set_data([], [])\n",
    "        pt.set_3d_properties([])\n",
    "    return lines + pts\n",
    "\n",
    "# Función de animación. Esto se llama secuencialmente con el número de cuadro \n",
    "def animate(i):\n",
    "    # un paso por 6 pasos de tiempo por trama. Esto conduce a buenos resultados.\n",
    "    i = (6 * i) % x_t.shape[1]\n",
    "\n",
    "    for line, pt, xi in zip(lines, pts, x_t):\n",
    "        x, y, z = xi[:i].T\n",
    "        line.set_data(x, y)\n",
    "        line.set_3d_properties(z)\n",
    "\n",
    "        pt.set_data(x[-1:], y[-1:])\n",
    "        pt.set_3d_properties(z[-1:])\n",
    "\n",
    "    ax.view_init(30, 0.3 * i) # angulo de vista y velocidad de rotacion\n",
    "    fig.canvas.draw()\n",
    "    return lines + pts\n",
    "\n",
    "# inicializa el animador\n",
    "anim = animation.FuncAnimation(fig, animate, init_func=init,\n",
    "                               frames=5000, interval=30, blit=True)\n",
    "\n",
    "# Guardar como MP4. Esto requiere mplayer o ffmpeg instalado. \n",
    "# anim.save ( 'lorentz_attractor.mp4', fps = 15, extra_args = ['- vcodec', 'libx264'])\n",
    "\n",
    "plt.show()"
   ]
  },
  {
   "cell_type": "code",
   "execution_count": null,
   "metadata": {
    "collapsed": true
   },
   "outputs": [],
   "source": []
  }
 ],
 "metadata": {
  "kernelspec": {
   "display_name": "Python [Root]",
   "language": "python",
   "name": "Python [Root]"
  },
  "language_info": {
   "codemirror_mode": {
    "name": "ipython",
    "version": 2
   },
   "file_extension": ".py",
   "mimetype": "text/x-python",
   "name": "python",
   "nbconvert_exporter": "python",
   "pygments_lexer": "ipython2",
   "version": "2.7.12"
  }
 },
 "nbformat": 4,
 "nbformat_minor": 0
}

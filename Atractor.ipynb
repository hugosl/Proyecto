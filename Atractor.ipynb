{
 "cells": [
  {
   "cell_type": "code",
   "execution_count": 92,
   "metadata": {
    "collapsed": true
   },
   "outputs": [],
   "source": [
    "import numpy as np\n",
    "from scipy import integrate\n",
    "\n",
    "from matplotlib import pyplot as plt\n",
    "from mpl_toolkits.mplot3d import Axes3D\n",
    "from matplotlib.colors import cnames\n",
    "from matplotlib import animation\n",
    "\n",
    "N_trajectories = 10"
   ]
  },
  {
   "cell_type": "code",
   "execution_count": 109,
   "metadata": {
    "collapsed": false
   },
   "outputs": [],
   "source": [
    "def lorentz_deriv((x, y, z), t0, alpha=9.5, beta=14.):\n",
    "    \"\"\"Compute the time-derivative of a Lorentz system.\"\"\" \n",
    "    #f = (b*x + 0.5*(a-b)(abs(x+1) - abs(x-1)))\n",
    "    f = ((1./16.)*x**3 - (1./6.)*x)\n",
    "    return [alpha * (y - f), x - y + z,- beta * y]"
   ]
  },
  {
   "cell_type": "code",
   "execution_count": 110,
   "metadata": {
    "collapsed": false
   },
   "outputs": [],
   "source": [
    "#def lorentz_deriv((x, y, z), t0, sigma=10., beta=8./3, rho=28.0):\n",
    "#    \"\"\"Compute the time-derivative of a Lorentz system.\"\"\"\n",
    "#    return [sigma * (y - x), x * (rho - z) - y, x * y - beta * z]"
   ]
  },
  {
   "cell_type": "code",
   "execution_count": 111,
   "metadata": {
    "collapsed": false
   },
   "outputs": [],
   "source": [
    "# Choose random starting points, uniformly distributed from -15 to 15\n",
    "np.random.seed(1)\n",
    "x0 = -1.5 + 3.0 * np.random.random((N_trajectories, 3))\n",
    "\n",
    "# Solve for the trajectories\n",
    "t = np.linspace(0, 40, 1000)\n",
    "x_t = np.asarray([integrate.odeint(lorentz_deriv, x0i, t)\n",
    "                  for x0i in x0])\n",
    "\n",
    "# Set up figure & 3D axis for animation\n",
    "fig = plt.figure()\n",
    "ax = fig.add_axes([0, 0, 1, 1], projection='3d')\n",
    "ax.axis('off')\n",
    "\n",
    "# choose a different color for each trajectory\n",
    "colors = plt.cm.jet(np.linspace(0, 1, N_trajectories))\n",
    "\n",
    "# set up lines and points\n",
    "lines = sum([ax.plot([], [], [], '-', c=c)\n",
    "             for c in colors], [])\n",
    "pts = sum([ax.plot([], [], [], 'o', c=c)\n",
    "           for c in colors], [])\n",
    "\n",
    "# prepare the axes limits\n",
    "ax.set_xlim((-25, 25))\n",
    "ax.set_ylim((-35, 35))\n",
    "ax.set_zlim((5, 55))\n",
    "\n",
    "# set point-of-view: specified by (altitude degrees, azimuth degrees)\n",
    "ax.view_init(30, 0)"
   ]
  },
  {
   "cell_type": "code",
   "execution_count": 112,
   "metadata": {
    "collapsed": true
   },
   "outputs": [],
   "source": [
    "# initialization function: plot the background of each frame\n",
    "def init():\n",
    "    for line, pt in zip(lines, pts):\n",
    "        line.set_data([], [])\n",
    "        line.set_3d_properties([])\n",
    "\n",
    "        pt.set_data([], [])\n",
    "        pt.set_3d_properties([])\n",
    "    return lines + pts\n",
    "\n",
    "# animation function.  This will be called sequentially with the frame number\n",
    "def animate(i):\n",
    "    # we'll step two time-steps per frame.  This leads to nice results.\n",
    "    i = (2 * i) % x_t.shape[1]\n",
    "\n",
    "    for line, pt, xi in zip(lines, pts, x_t):\n",
    "        x, y, z = xi[:i].T\n",
    "        line.set_data(x, y)\n",
    "        line.set_3d_properties(z)\n",
    "\n",
    "        pt.set_data(x[-1:], y[-1:])\n",
    "        pt.set_3d_properties(z[-1:])\n",
    "\n",
    "    ax.view_init(30, 0.3 * i)\n",
    "    fig.canvas.draw()\n",
    "    return lines + pts\n",
    "\n",
    "# instantiate the animator.\n",
    "anim = animation.FuncAnimation(fig, animate, init_func=init,\n",
    "                               frames=500, interval=30, blit=True)\n",
    "\n",
    "# Save as mp4. This requires mplayer or ffmpeg to be installed\n",
    "#anim.save('lorentz_attractor.mp4', fps=15, extra_args=['-vcodec', 'libx264'])\n",
    "\n",
    "plt.show()"
   ]
  },
  {
   "cell_type": "code",
   "execution_count": null,
   "metadata": {
    "collapsed": true
   },
   "outputs": [],
   "source": []
  },
  {
   "cell_type": "code",
   "execution_count": null,
   "metadata": {
    "collapsed": true
   },
   "outputs": [],
   "source": []
  }
 ],
 "metadata": {
  "kernelspec": {
   "display_name": "Python [Root]",
   "language": "python",
   "name": "Python [Root]"
  },
  "language_info": {
   "codemirror_mode": {
    "name": "ipython",
    "version": 2
   },
   "file_extension": ".py",
   "mimetype": "text/x-python",
   "name": "python",
   "nbconvert_exporter": "python",
   "pygments_lexer": "ipython2",
   "version": "2.7.12"
  }
 },
 "nbformat": 4,
 "nbformat_minor": 0
}

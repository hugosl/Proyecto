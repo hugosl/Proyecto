{
 "cells": [
  {
   "cell_type": "code",
   "execution_count": 151,
   "metadata": {
    "collapsed": true
   },
   "outputs": [],
   "source": [
    "import numpy as np\n",
    "from scipy import integrate\n",
    "\n",
    "from matplotlib import pyplot as plt\n",
    "from mpl_toolkits.mplot3d import Axes3D\n",
    "from matplotlib.colors import cnames\n",
    "from matplotlib import animation\n",
    "\n",
    "N_trajectories = 20"
   ]
  },
  {
   "cell_type": "code",
   "execution_count": 158,
   "metadata": {
    "collapsed": false
   },
   "outputs": [],
   "source": [
    "def chua_deriv((x, y, z), t0, alpha=9.5, beta=14.):\n",
    "    \"\"\"Compute the time-derivative of a chua system.\"\"\" \n",
    "    f = ((1./16.)*x**3 - (1./6.)*x)\n",
    "    return [alpha * (y  - f),  x - y + z, -(beta * y)]"
   ]
  },
  {
   "cell_type": "code",
   "execution_count": 159,
   "metadata": {
    "collapsed": false
   },
   "outputs": [],
   "source": [
    "#def lorentz_deriv((x, y, z), t0, sigma=10., beta=8./3, rho=28.0):\n",
    "#    \"\"\"Compute the time-derivative of a Lorentz system.\"\"\"\n",
    "#    return [sigma * (y - x), x * (rho - z) - y, x * y - beta * z]"
   ]
  },
  {
   "cell_type": "code",
   "execution_count": 156,
   "metadata": {
    "collapsed": false
   },
   "outputs": [
    {
     "name": "stdout",
     "output_type": "stream",
     "text": [
      "[[  4.17022005e-04   7.20324493e-04   1.14374817e-07]\n",
      " [  3.02332573e-04   1.46755891e-04   9.23385948e-05]\n",
      " [  1.86260211e-04   3.45560727e-04   3.96767474e-04]\n",
      " [  5.38816734e-04   4.19194514e-04   6.85219500e-04]\n",
      " [  2.04452250e-04   8.78117436e-04   2.73875932e-05]\n",
      " [  6.70467510e-04   4.17304802e-04   5.58689828e-04]\n",
      " [  1.40386939e-04   1.98101489e-04   8.00744569e-04]\n",
      " [  9.68261576e-04   3.13424178e-04   6.92322616e-04]\n",
      " [  8.76389152e-04   8.94606664e-04   8.50442114e-05]\n",
      " [  3.90547832e-05   1.69830420e-04   8.78142503e-04]\n",
      " [  9.83468338e-05   4.21107625e-04   9.57889530e-04]\n",
      " [  5.33165285e-04   6.91877114e-04   3.15515631e-04]\n",
      " [  6.86500928e-04   8.34625672e-04   1.82882773e-05]\n",
      " [  7.50144315e-04   9.88861089e-04   7.48165654e-04]\n",
      " [  2.80443992e-04   7.89279328e-04   1.03226007e-04]\n",
      " [  4.47893526e-04   9.08595503e-04   2.93614148e-04]\n",
      " [  2.87775339e-04   1.30028572e-04   1.93669579e-05]\n",
      " [  6.78835533e-04   2.11628116e-04   2.65546659e-04]\n",
      " [  4.91573159e-04   5.33625451e-05   5.74117605e-04]\n",
      " [  1.46728575e-04   5.89305537e-04   6.99758360e-04]]\n"
     ]
    }
   ],
   "source": [
    "# Choose random starting points, uniformly distributed from -15 to 15\n",
    "np.random.seed(1)\n",
    "x0 =  .001 * np.random.random((N_trajectories, 3))\n",
    "print x0\n",
    "# Solve for the trajectories\n",
    "t = np.linspace(0, 100, 10000)\n",
    "x_t = np.asarray([integrate.odeint(chua_deriv, x0i, t)\n",
    "                  for x0i in x0])\n",
    "\n",
    "# Set up figure & 3D axis for animation\n",
    "fig = plt.figure()\n",
    "ax = fig.add_axes([0, 0, 1, 1], projection='3d')\n",
    "ax.axis('off')\n",
    "\n",
    "# choose a different color for each trajectory\n",
    "colors = plt.cm.jet(np.linspace(0, 1, N_trajectories))\n",
    "\n",
    "# set up lines and points\n",
    "lines = sum([ax.plot([], [], [], '-', c=c)\n",
    "             for c in colors], [])\n",
    "pts = sum([ax.plot([], [], [], 'o', c=c)\n",
    "           for c in colors], [])\n",
    "\n",
    "# prepare the axes limits\n",
    "ax.set_xlim((-2, 2))\n",
    "ax.set_ylim((-2, 2))\n",
    "ax.set_zlim((-2, 2))\n",
    "\n",
    "# set point-of-view: specified by (altitude degrees, azimuth degrees)\n",
    "ax.view_init(30, 0)"
   ]
  },
  {
   "cell_type": "code",
   "execution_count": 157,
   "metadata": {
    "collapsed": true
   },
   "outputs": [],
   "source": [
    "# initialization function: plot the background of each frame\n",
    "def init():\n",
    "    for line, pt in zip(lines, pts):\n",
    "        line.set_data([], [])\n",
    "        line.set_3d_properties([])\n",
    "\n",
    "        pt.set_data([], [])\n",
    "        pt.set_3d_properties([])\n",
    "    return lines + pts\n",
    "\n",
    "# animation function.  This will be called sequentially with the frame number\n",
    "def animate(i):\n",
    "    # we'll step two time-steps per frame.  This leads to nice results.\n",
    "    i = (2 * i) % x_t.shape[1]\n",
    "\n",
    "    for line, pt, xi in zip(lines, pts, x_t):\n",
    "        x, y, z = xi[:i].T\n",
    "        line.set_data(x, y)\n",
    "        line.set_3d_properties(z)\n",
    "\n",
    "        pt.set_data(x[-1:], y[-1:])\n",
    "        pt.set_3d_properties(z[-1:])\n",
    "\n",
    "    ax.view_init(30, 0.3 * i)\n",
    "    fig.canvas.draw()\n",
    "    return lines + pts\n",
    "\n",
    "# instantiate the animator.\n",
    "anim = animation.FuncAnimation(fig, animate, init_func=init,\n",
    "                               frames=5000, interval=30, blit=True)\n",
    "\n",
    "# Save as mp4. This requires mplayer or ffmpeg to be installed\n",
    "#anim.save('lorentz_attractor.mp4', fps=15, extra_args=['-vcodec', 'libx264'])\n",
    "\n",
    "plt.show()"
   ]
  },
  {
   "cell_type": "code",
   "execution_count": null,
   "metadata": {
    "collapsed": true
   },
   "outputs": [],
   "source": []
  },
  {
   "cell_type": "code",
   "execution_count": null,
   "metadata": {
    "collapsed": true
   },
   "outputs": [],
   "source": []
  }
 ],
 "metadata": {
  "kernelspec": {
   "display_name": "Python [Root]",
   "language": "python",
   "name": "Python [Root]"
  },
  "language_info": {
   "codemirror_mode": {
    "name": "ipython",
    "version": 2
   },
   "file_extension": ".py",
   "mimetype": "text/x-python",
   "name": "python",
   "nbconvert_exporter": "python",
   "pygments_lexer": "ipython2",
   "version": "2.7.12"
  }
 },
 "nbformat": 4,
 "nbformat_minor": 0
}

{
 "cells": [
  {
   "cell_type": "code",
   "execution_count": 40,
   "metadata": {
    "collapsed": true
   },
   "outputs": [],
   "source": [
    "import numpy as np\n",
    "from scipy import integrate\n",
    "from matplotlib import pyplot as plt\n",
    "from mpl_toolkits.mplot3d import Axes3D\n",
    "from matplotlib.colors import cnames\n",
    "from matplotlib import animation"
   ]
  },
  {
   "cell_type": "code",
   "execution_count": 41,
   "metadata": {
    "collapsed": false
   },
   "outputs": [],
   "source": [
    "def chua_deriv((x, y, z), t0, alpha=9.5, beta=14.): # definine el sistema de chua\n",
    "    #se utilizo una generalización que sustituye la función continua lineal a tramos f( x )\n",
    "    #por una función suave, tal como un  polinomio cubico, en este caso la estudiada por Hirsch y Smale\n",
    "    f = ((1./16.)*x**3 - (1./6.)*x)\n",
    "    return [alpha * (y  - f),  x - y + z, -(beta * y)]"
   ]
  },
  {
   "cell_type": "code",
   "execution_count": 42,
   "metadata": {
    "collapsed": false
   },
   "outputs": [],
   "source": [
    "N_trajectories = 20\n",
    "\n",
    "# Elije puntos de inicio al azar, distribuidos uniformemente en torno al punto de equilibrio trivial (0,0,0)\n",
    "np.random.seed(1)\n",
    "x0 =  .001 * np.random.random((N_trajectories, 3))\n",
    "\n",
    "# Resuelve para las trayectorias\n",
    "t = np.linspace(0, 100, 10000)\n",
    "x_t = np.asarray([integrate.odeint(chua_deriv, x0i, t)\n",
    "                  for x0i in x0])"
   ]
  },
  {
   "cell_type": "code",
   "execution_count": 43,
   "metadata": {
    "collapsed": true
   },
   "outputs": [],
   "source": [
    "# Establece la figura y eje 3D para la animación \n",
    "fig = plt.figure()\n",
    "ax = fig.add_axes([0, 0, 1, 1], projection='3d')\n",
    "ax.axis('on')\n",
    "\n",
    "# Elege un color diferente para cada trayectoria \n",
    "colors = plt.cm.jet(np.linspace(0, 1, N_trajectories))\n",
    "\n",
    "# Establece líneas y puntos \n",
    "lines = sum([ax.plot([], [], [], '-', c=c)\n",
    "             for c in colors], [])\n",
    "pts = sum([ax.plot([], [], [], 'o', c=c)\n",
    "           for c in colors], [])\n",
    "\n",
    "# Prepara el límite de los ejes \n",
    "zoom = 3\n",
    "ax.set_xlim((-zoom, zoom))\n",
    "ax.set_ylim((-zoom, zoom))\n",
    "ax.set_zlim((-zoom, zoom))\n",
    "\n",
    "# Conjunto de puntos de vista: especificado por (grados de altitud, grados  azimutales) \n",
    "ax.view_init(30, 0)\n",
    "\n",
    "# Función de inicialización: trama del fondo de cada trama\n",
    "def init():\n",
    "    for line, pt in zip(lines, pts):\n",
    "        line.set_data([], [])\n",
    "        line.set_3d_properties([])\n",
    "\n",
    "        pt.set_data([], [])\n",
    "        pt.set_3d_properties([])\n",
    "    return lines + pts\n",
    "\n",
    "# Función de animación. Esto se llama secuencialmente con el número de cuadro \n",
    "def animate(i):\n",
    "    # un paso por 6 pasos de tiempo por trama. Esto conduce a buenos resultados.\n",
    "    i = (6 * i) % x_t.shape[1]\n",
    "\n",
    "    for line, pt, xi in zip(lines, pts, x_t):\n",
    "        x, y, z = xi[:i].T\n",
    "        line.set_data(x, y)\n",
    "        line.set_3d_properties(z)\n",
    "\n",
    "        pt.set_data(x[-1:], y[-1:])\n",
    "        pt.set_3d_properties(z[-1:])\n",
    "\n",
    "    ax.view_init(30, 0.3 * i) # angulo de vista y velocidad de rotacion\n",
    "    fig.canvas.draw()\n",
    "    return lines + pts\n",
    "\n",
    "# inicializa el animador\n",
    "anim = animation.FuncAnimation(fig, animate, init_func=init,\n",
    "                               frames=5000, interval=30, blit=True)\n",
    "\n",
    "# Guardar como MP4. Esto requiere mplayer o ffmpeg instalado. \n",
    "# anim.save ( 'lorentz_attractor.mp4', fps = 15, extra_args = ['- vcodec', 'libx264'])\n",
    "\n",
    "plt.show()"
   ]
  },
  {
   "cell_type": "code",
   "execution_count": null,
   "metadata": {
    "collapsed": true
   },
   "outputs": [],
   "source": []
  }
 ],
 "metadata": {
  "kernelspec": {
   "display_name": "Python [Root]",
   "language": "python",
   "name": "Python [Root]"
  },
  "language_info": {
   "codemirror_mode": {
    "name": "ipython",
    "version": 2
   },
   "file_extension": ".py",
   "mimetype": "text/x-python",
   "name": "python",
   "nbconvert_exporter": "python",
   "pygments_lexer": "ipython2",
   "version": "2.7.12"
  }
 },
 "nbformat": 4,
 "nbformat_minor": 0
}
